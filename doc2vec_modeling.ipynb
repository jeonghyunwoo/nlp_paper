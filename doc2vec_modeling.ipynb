{
 "cells": [
  {
   "cell_type": "code",
   "execution_count": 1,
   "metadata": {},
   "outputs": [],
   "source": [
    "import pandas as pd\n",
    "import numpy as np\n",
    "from gensim.models.doc2vec import Doc2Vec, TaggedDocument\n",
    "from nltk.tokenize import word_tokenize"
   ]
  },
  {
   "cell_type": "code",
   "execution_count": 2,
   "metadata": {},
   "outputs": [
    {
     "data": {
      "text/plain": [
       "'C:\\\\Users\\\\jeong\\\\proj\\\\nlp_paper'"
      ]
     },
     "execution_count": 2,
     "metadata": {},
     "output_type": "execute_result"
    }
   ],
   "source": [
    "pwd"
   ]
  },
  {
   "cell_type": "code",
   "execution_count": 3,
   "metadata": {},
   "outputs": [],
   "source": [
    "import glob"
   ]
  },
  {
   "cell_type": "code",
   "execution_count": 4,
   "metadata": {},
   "outputs": [
    {
     "data": {
      "text/plain": [
       "['data\\\\CBOE Volatility Index Historical Data.csv',\n",
       " 'data\\\\href.csv',\n",
       " 'data\\\\lkdf.csv',\n",
       " 'data\\\\newslink.csv',\n",
       " 'data\\\\news_vix.csv',\n",
       " 'data\\\\news_vix1.csv',\n",
       " 'data\\\\news_vix2.csv']"
      ]
     },
     "execution_count": 4,
     "metadata": {},
     "output_type": "execute_result"
    }
   ],
   "source": [
    "glob.glob('data/*.csv')"
   ]
  },
  {
   "cell_type": "code",
   "execution_count": 5,
   "metadata": {},
   "outputs": [],
   "source": [
    "df = pd.read_csv('data/news_vix2.csv')"
   ]
  },
  {
   "cell_type": "code",
   "execution_count": 6,
   "metadata": {},
   "outputs": [
    {
     "data": {
      "text/plain": [
       "(241, 3)"
      ]
     },
     "execution_count": 6,
     "metadata": {},
     "output_type": "execute_result"
    }
   ],
   "source": [
    "df.shape"
   ]
  },
  {
   "cell_type": "code",
   "execution_count": 7,
   "metadata": {},
   "outputs": [
    {
     "data": {
      "text/html": [
       "<div>\n",
       "<style scoped>\n",
       "    .dataframe tbody tr th:only-of-type {\n",
       "        vertical-align: middle;\n",
       "    }\n",
       "\n",
       "    .dataframe tbody tr th {\n",
       "        vertical-align: top;\n",
       "    }\n",
       "\n",
       "    .dataframe thead th {\n",
       "        text-align: right;\n",
       "    }\n",
       "</style>\n",
       "<table border=\"1\" class=\"dataframe\">\n",
       "  <thead>\n",
       "    <tr style=\"text-align: right;\">\n",
       "      <th></th>\n",
       "      <th>date</th>\n",
       "      <th>title</th>\n",
       "      <th>news</th>\n",
       "    </tr>\n",
       "  </thead>\n",
       "  <tbody>\n",
       "    <tr>\n",
       "      <th>0</th>\n",
       "      <td>Jun 23, 2019</td>\n",
       "      <td>Energy &amp; Precious Metals - Weekly Review and C...</td>\n",
       "      <td>© Reuters.\\n\\nBy Barani Krishnan\\n\\nInvesting....</td>\n",
       "    </tr>\n",
       "    <tr>\n",
       "      <th>1</th>\n",
       "      <td>Jun 23, 2019</td>\n",
       "      <td>3 Things Under the Radar This Week</td>\n",
       "      <td>© Reuters.\\n\\nInvesting.com - Here’s a look at...</td>\n",
       "    </tr>\n",
       "    <tr>\n",
       "      <th>2</th>\n",
       "      <td>Jun 23, 2019</td>\n",
       "      <td>Economic Calendar - Top 5 Things to Watch This...</td>\n",
       "      <td>© Reuters.\\n\\nInvesting.com - Market watchers ...</td>\n",
       "    </tr>\n",
       "    <tr>\n",
       "      <th>3</th>\n",
       "      <td>Jun 23, 2019</td>\n",
       "      <td>U.S. stocks lower at close of trade; Dow Jones...</td>\n",
       "      <td>© Reuters. U.S. stocks lower at close of trade...</td>\n",
       "    </tr>\n",
       "    <tr>\n",
       "      <th>4</th>\n",
       "      <td>June 21, 2019 10:00am</td>\n",
       "      <td>Boeing Company (The) (NYSE:BA), Caterpillar, I...</td>\n",
       "      <td>It’s been a quick comeback for the S&amp;P 500 Ind...</td>\n",
       "    </tr>\n",
       "  </tbody>\n",
       "</table>\n",
       "</div>"
      ],
      "text/plain": [
       "                    date                                              title  \\\n",
       "0           Jun 23, 2019  Energy & Precious Metals - Weekly Review and C...   \n",
       "1           Jun 23, 2019                 3 Things Under the Radar This Week   \n",
       "2           Jun 23, 2019  Economic Calendar - Top 5 Things to Watch This...   \n",
       "3           Jun 23, 2019  U.S. stocks lower at close of trade; Dow Jones...   \n",
       "4  June 21, 2019 10:00am  Boeing Company (The) (NYSE:BA), Caterpillar, I...   \n",
       "\n",
       "                                                news  \n",
       "0  © Reuters.\\n\\nBy Barani Krishnan\\n\\nInvesting....  \n",
       "1  © Reuters.\\n\\nInvesting.com - Here’s a look at...  \n",
       "2  © Reuters.\\n\\nInvesting.com - Market watchers ...  \n",
       "3  © Reuters. U.S. stocks lower at close of trade...  \n",
       "4  It’s been a quick comeback for the S&P 500 Ind...  "
      ]
     },
     "execution_count": 7,
     "metadata": {},
     "output_type": "execute_result"
    }
   ],
   "source": [
    "df.head()"
   ]
  },
  {
   "cell_type": "code",
   "execution_count": 12,
   "metadata": {},
   "outputs": [],
   "source": [
    "df['dat'] = pd.to_datetime(df.date)"
   ]
  },
  {
   "cell_type": "code",
   "execution_count": 13,
   "metadata": {},
   "outputs": [],
   "source": [
    "df['ymd'] = df.dat.dt.strftime('%Y%m%d')"
   ]
  },
  {
   "cell_type": "code",
   "execution_count": 14,
   "metadata": {},
   "outputs": [
    {
     "data": {
      "text/html": [
       "<div>\n",
       "<style scoped>\n",
       "    .dataframe tbody tr th:only-of-type {\n",
       "        vertical-align: middle;\n",
       "    }\n",
       "\n",
       "    .dataframe tbody tr th {\n",
       "        vertical-align: top;\n",
       "    }\n",
       "\n",
       "    .dataframe thead th {\n",
       "        text-align: right;\n",
       "    }\n",
       "</style>\n",
       "<table border=\"1\" class=\"dataframe\">\n",
       "  <thead>\n",
       "    <tr style=\"text-align: right;\">\n",
       "      <th></th>\n",
       "      <th>date</th>\n",
       "      <th>title</th>\n",
       "      <th>news</th>\n",
       "      <th>dat</th>\n",
       "      <th>ymd</th>\n",
       "    </tr>\n",
       "  </thead>\n",
       "  <tbody>\n",
       "    <tr>\n",
       "      <th>0</th>\n",
       "      <td>Jun 23, 2019</td>\n",
       "      <td>Energy &amp; Precious Metals - Weekly Review and C...</td>\n",
       "      <td>© Reuters.\\n\\nBy Barani Krishnan\\n\\nInvesting....</td>\n",
       "      <td>2019-06-23 00:00:00</td>\n",
       "      <td>20190623</td>\n",
       "    </tr>\n",
       "    <tr>\n",
       "      <th>1</th>\n",
       "      <td>Jun 23, 2019</td>\n",
       "      <td>3 Things Under the Radar This Week</td>\n",
       "      <td>© Reuters.\\n\\nInvesting.com - Here’s a look at...</td>\n",
       "      <td>2019-06-23 00:00:00</td>\n",
       "      <td>20190623</td>\n",
       "    </tr>\n",
       "    <tr>\n",
       "      <th>2</th>\n",
       "      <td>Jun 23, 2019</td>\n",
       "      <td>Economic Calendar - Top 5 Things to Watch This...</td>\n",
       "      <td>© Reuters.\\n\\nInvesting.com - Market watchers ...</td>\n",
       "      <td>2019-06-23 00:00:00</td>\n",
       "      <td>20190623</td>\n",
       "    </tr>\n",
       "    <tr>\n",
       "      <th>3</th>\n",
       "      <td>Jun 23, 2019</td>\n",
       "      <td>U.S. stocks lower at close of trade; Dow Jones...</td>\n",
       "      <td>© Reuters. U.S. stocks lower at close of trade...</td>\n",
       "      <td>2019-06-23 00:00:00</td>\n",
       "      <td>20190623</td>\n",
       "    </tr>\n",
       "    <tr>\n",
       "      <th>4</th>\n",
       "      <td>June 21, 2019 10:00am</td>\n",
       "      <td>Boeing Company (The) (NYSE:BA), Caterpillar, I...</td>\n",
       "      <td>It’s been a quick comeback for the S&amp;P 500 Ind...</td>\n",
       "      <td>2019-06-21 10:00:00</td>\n",
       "      <td>20190621</td>\n",
       "    </tr>\n",
       "  </tbody>\n",
       "</table>\n",
       "</div>"
      ],
      "text/plain": [
       "                    date                                              title  \\\n",
       "0           Jun 23, 2019  Energy & Precious Metals - Weekly Review and C...   \n",
       "1           Jun 23, 2019                 3 Things Under the Radar This Week   \n",
       "2           Jun 23, 2019  Economic Calendar - Top 5 Things to Watch This...   \n",
       "3           Jun 23, 2019  U.S. stocks lower at close of trade; Dow Jones...   \n",
       "4  June 21, 2019 10:00am  Boeing Company (The) (NYSE:BA), Caterpillar, I...   \n",
       "\n",
       "                                                news                 dat  \\\n",
       "0  © Reuters.\\n\\nBy Barani Krishnan\\n\\nInvesting.... 2019-06-23 00:00:00   \n",
       "1  © Reuters.\\n\\nInvesting.com - Here’s a look at... 2019-06-23 00:00:00   \n",
       "2  © Reuters.\\n\\nInvesting.com - Market watchers ... 2019-06-23 00:00:00   \n",
       "3  © Reuters. U.S. stocks lower at close of trade... 2019-06-23 00:00:00   \n",
       "4  It’s been a quick comeback for the S&P 500 Ind... 2019-06-21 10:00:00   \n",
       "\n",
       "        ymd  \n",
       "0  20190623  \n",
       "1  20190623  \n",
       "2  20190623  \n",
       "3  20190623  \n",
       "4  20190621  "
      ]
     },
     "execution_count": 14,
     "metadata": {},
     "output_type": "execute_result"
    }
   ],
   "source": [
    "df.head()"
   ]
  },
  {
   "cell_type": "code",
   "execution_count": 15,
   "metadata": {},
   "outputs": [
    {
     "data": {
      "text/plain": [
       "20190623    240\n",
       "20190621      1\n",
       "Name: ymd, dtype: int64"
      ]
     },
     "execution_count": 15,
     "metadata": {},
     "output_type": "execute_result"
    }
   ],
   "source": [
    "df.ymd.value_counts(dropna=False)"
   ]
  },
  {
   "cell_type": "markdown",
   "metadata": {},
   "source": [
    "각 기사별로 doc2vec을 해보자 "
   ]
  },
  {
   "cell_type": "code",
   "execution_count": 16,
   "metadata": {},
   "outputs": [],
   "source": [
    "df1 = df.loc[:,['ymd','title','news']]"
   ]
  },
  {
   "cell_type": "code",
   "execution_count": 17,
   "metadata": {},
   "outputs": [
    {
     "data": {
      "text/html": [
       "<div>\n",
       "<style scoped>\n",
       "    .dataframe tbody tr th:only-of-type {\n",
       "        vertical-align: middle;\n",
       "    }\n",
       "\n",
       "    .dataframe tbody tr th {\n",
       "        vertical-align: top;\n",
       "    }\n",
       "\n",
       "    .dataframe thead th {\n",
       "        text-align: right;\n",
       "    }\n",
       "</style>\n",
       "<table border=\"1\" class=\"dataframe\">\n",
       "  <thead>\n",
       "    <tr style=\"text-align: right;\">\n",
       "      <th></th>\n",
       "      <th>ymd</th>\n",
       "      <th>title</th>\n",
       "      <th>news</th>\n",
       "    </tr>\n",
       "  </thead>\n",
       "  <tbody>\n",
       "    <tr>\n",
       "      <th>0</th>\n",
       "      <td>20190623</td>\n",
       "      <td>Energy &amp; Precious Metals - Weekly Review and C...</td>\n",
       "      <td>© Reuters.\\n\\nBy Barani Krishnan\\n\\nInvesting....</td>\n",
       "    </tr>\n",
       "    <tr>\n",
       "      <th>1</th>\n",
       "      <td>20190623</td>\n",
       "      <td>3 Things Under the Radar This Week</td>\n",
       "      <td>© Reuters.\\n\\nInvesting.com - Here’s a look at...</td>\n",
       "    </tr>\n",
       "    <tr>\n",
       "      <th>2</th>\n",
       "      <td>20190623</td>\n",
       "      <td>Economic Calendar - Top 5 Things to Watch This...</td>\n",
       "      <td>© Reuters.\\n\\nInvesting.com - Market watchers ...</td>\n",
       "    </tr>\n",
       "    <tr>\n",
       "      <th>3</th>\n",
       "      <td>20190623</td>\n",
       "      <td>U.S. stocks lower at close of trade; Dow Jones...</td>\n",
       "      <td>© Reuters. U.S. stocks lower at close of trade...</td>\n",
       "    </tr>\n",
       "    <tr>\n",
       "      <th>4</th>\n",
       "      <td>20190621</td>\n",
       "      <td>Boeing Company (The) (NYSE:BA), Caterpillar, I...</td>\n",
       "      <td>It’s been a quick comeback for the S&amp;P 500 Ind...</td>\n",
       "    </tr>\n",
       "  </tbody>\n",
       "</table>\n",
       "</div>"
      ],
      "text/plain": [
       "        ymd                                              title  \\\n",
       "0  20190623  Energy & Precious Metals - Weekly Review and C...   \n",
       "1  20190623                 3 Things Under the Radar This Week   \n",
       "2  20190623  Economic Calendar - Top 5 Things to Watch This...   \n",
       "3  20190623  U.S. stocks lower at close of trade; Dow Jones...   \n",
       "4  20190621  Boeing Company (The) (NYSE:BA), Caterpillar, I...   \n",
       "\n",
       "                                                news  \n",
       "0  © Reuters.\\n\\nBy Barani Krishnan\\n\\nInvesting....  \n",
       "1  © Reuters.\\n\\nInvesting.com - Here’s a look at...  \n",
       "2  © Reuters.\\n\\nInvesting.com - Market watchers ...  \n",
       "3  © Reuters. U.S. stocks lower at close of trade...  \n",
       "4  It’s been a quick comeback for the S&P 500 Ind...  "
      ]
     },
     "execution_count": 17,
     "metadata": {},
     "output_type": "execute_result"
    }
   ],
   "source": [
    "df1.head()"
   ]
  },
  {
   "cell_type": "code",
   "execution_count": 1,
   "metadata": {},
   "outputs": [
    {
     "name": "stderr",
     "output_type": "stream",
     "text": [
      "[nltk_data] Downloading package stopwords to\n",
      "[nltk_data]     C:\\Users\\kulib015\\AppData\\Roaming\\nltk_data...\n",
      "[nltk_data]   Package stopwords is already up-to-date!\n"
     ]
    },
    {
     "data": {
      "text/plain": [
       "True"
      ]
     },
     "execution_count": 1,
     "metadata": {},
     "output_type": "execute_result"
    }
   ],
   "source": [
    "# tokenize 및 stopwords 제거 \n",
    "from nltk.corpus import stopwords\n",
    "import nltk\n",
    "import string\n",
    "nltk.download('stopwords')"
   ]
  },
  {
   "cell_type": "code",
   "execution_count": 55,
   "metadata": {},
   "outputs": [],
   "source": [
    "stopwz = set(stopwords.words('english')+['reuters','investing.com']+[p for p in string.punctuation]) # reuters,investing.com, 구두점 추가 "
   ]
  },
  {
   "cell_type": "code",
   "execution_count": 56,
   "metadata": {},
   "outputs": [],
   "source": [
    "from nltk.tokenize import RegexpTokenizer\n",
    "tokenizer = RegexpTokenizer(r'\\w+')  # alphanumeric characters (영문자와 숫자만 가져옴)\n",
    "# word_tokenize 대신 쓸 수 있음 "
   ]
  },
  {
   "cell_type": "code",
   "execution_count": 72,
   "metadata": {},
   "outputs": [],
   "source": [
    "data = df1.news.tolist()\n",
    "token_news = [word_tokenize(d.lower()) for d in data]\n",
    "#token_news = [tokenizer.tokenize(d.lower()) for d in data]"
   ]
  },
  {
   "cell_type": "code",
   "execution_count": 73,
   "metadata": {},
   "outputs": [],
   "source": [
    "token_news_filtered = []\n",
    "for d in token_news:\n",
    "    _d = [w for w in d if w not in stopwz]\n",
    "    token_news_filtered.append(_d)"
   ]
  },
  {
   "cell_type": "code",
   "execution_count": 79,
   "metadata": {},
   "outputs": [],
   "source": [
    "# tagged data 만들기 \n",
    "tagged_news = [TaggedDocument(words = d, tags = [str(i)]) for i, _d in enumerate(token_news_filtered)]"
   ]
  },
  {
   "cell_type": "code",
   "execution_count": 80,
   "metadata": {},
   "outputs": [],
   "source": [
    "# modeling\n",
    "max_epochs = 100\n",
    "vec_size = 100\n",
    "alpha = 0.25\n",
    "\n",
    "model = Doc2Vec(vector_size = vec_size,\n",
    "               alpha = alpha,\n",
    "               min_alpha = 0.00025,\n",
    "               min_count = 1,\n",
    "               dm = 1) "
   ]
  },
  {
   "cell_type": "code",
   "execution_count": 81,
   "metadata": {},
   "outputs": [],
   "source": [
    "model.build_vocab(tagged_news)"
   ]
  },
  {
   "cell_type": "code",
   "execution_count": 82,
   "metadata": {},
   "outputs": [
    {
     "name": "stdout",
     "output_type": "stream",
     "text": [
      "iteration 0\n",
      "iteration 10\n",
      "iteration 20\n",
      "iteration 30\n",
      "iteration 40\n",
      "iteration 50\n",
      "iteration 60\n",
      "iteration 70\n",
      "iteration 80\n",
      "iteration 90\n",
      "Wall time: 37.2 s\n"
     ]
    }
   ],
   "source": [
    "%%time\n",
    "for epoch in range(max_epochs):\n",
    "    if epoch % 10 ==0:\n",
    "        print('iteration {0}'.format(epoch))\n",
    "    model.train(tagged_news,\n",
    "               total_examples = model.corpus_count,\n",
    "               epochs = model.epochs)\n",
    "    # decrease the learning rate\n",
    "    model.alpha -= 0.0002\n",
    "    # fix the learning rate, no decay\n",
    "    model.min_alpha = model.alpha"
   ]
  },
  {
   "cell_type": "code",
   "execution_count": 83,
   "metadata": {},
   "outputs": [
    {
     "name": "stdout",
     "output_type": "stream",
     "text": [
      "Model Saved\n"
     ]
    }
   ],
   "source": [
    "model.save('data/d2v.model')\n",
    "print('Model Saved')\n",
    "\n",
    "# dm은 training 알고리즘을 결정함 \n",
    "# dm=1: distributed memory(PV-DM)\n",
    "# dm=0: distributed bag of words(PV_DBOW)\n",
    "# distributed memory: 문서안의 단어순서를 보존한다 \n",
    "# distributed bag of words: bag of approach를 이용한다(단어순서 보존안함) "
   ]
  },
  {
   "cell_type": "code",
   "execution_count": 99,
   "metadata": {},
   "outputs": [],
   "source": [
    "# vector 생성 \n",
    "vectors = [model.infer_vector(x) for x in token_news_filtered]"
   ]
  },
  {
   "cell_type": "code",
   "execution_count": 102,
   "metadata": {},
   "outputs": [],
   "source": [
    "dvec = pd.DataFrame(vectors, columns=['dv'+str(i) for i in range(100)])"
   ]
  },
  {
   "cell_type": "code",
   "execution_count": 101,
   "metadata": {},
   "outputs": [],
   "source": [
    "df1['token_news'] = token_news_filtered\n",
    "df1['tagged_news'] = tagged_news"
   ]
  },
  {
   "cell_type": "code",
   "execution_count": 105,
   "metadata": {},
   "outputs": [],
   "source": [
    "df2 = pd.concat([df1,dvec],axis=1)"
   ]
  },
  {
   "cell_type": "code",
   "execution_count": 106,
   "metadata": {},
   "outputs": [
    {
     "data": {
      "text/html": [
       "<div>\n",
       "<style scoped>\n",
       "    .dataframe tbody tr th:only-of-type {\n",
       "        vertical-align: middle;\n",
       "    }\n",
       "\n",
       "    .dataframe tbody tr th {\n",
       "        vertical-align: top;\n",
       "    }\n",
       "\n",
       "    .dataframe thead th {\n",
       "        text-align: right;\n",
       "    }\n",
       "</style>\n",
       "<table border=\"1\" class=\"dataframe\">\n",
       "  <thead>\n",
       "    <tr style=\"text-align: right;\">\n",
       "      <th></th>\n",
       "      <th>ymd</th>\n",
       "      <th>title</th>\n",
       "      <th>news</th>\n",
       "      <th>tagged_news</th>\n",
       "      <th>token_news</th>\n",
       "      <th>dv0</th>\n",
       "      <th>dv1</th>\n",
       "      <th>dv2</th>\n",
       "      <th>dv3</th>\n",
       "      <th>dv4</th>\n",
       "      <th>...</th>\n",
       "      <th>dv90</th>\n",
       "      <th>dv91</th>\n",
       "      <th>dv92</th>\n",
       "      <th>dv93</th>\n",
       "      <th>dv94</th>\n",
       "      <th>dv95</th>\n",
       "      <th>dv96</th>\n",
       "      <th>dv97</th>\n",
       "      <th>dv98</th>\n",
       "      <th>dv99</th>\n",
       "    </tr>\n",
       "  </thead>\n",
       "  <tbody>\n",
       "    <tr>\n",
       "      <th>0</th>\n",
       "      <td>20190623</td>\n",
       "      <td>Energy &amp; Precious Metals - Weekly Review and C...</td>\n",
       "      <td>© Reuters.\\n\\nBy Barani Krishnan\\n\\nInvesting....</td>\n",
       "      <td>([investing.com, -, u.s., stocks, traded, larg...</td>\n",
       "      <td>[©, ., barani, krishnan, -, one, week, ago, ,,...</td>\n",
       "      <td>3.681059</td>\n",
       "      <td>-5.299938</td>\n",
       "      <td>-14.765718</td>\n",
       "      <td>-3.964301</td>\n",
       "      <td>-4.605420</td>\n",
       "      <td>...</td>\n",
       "      <td>3.318588</td>\n",
       "      <td>9.164207</td>\n",
       "      <td>-9.478999</td>\n",
       "      <td>-1.168177</td>\n",
       "      <td>0.837244</td>\n",
       "      <td>-2.437616</td>\n",
       "      <td>-7.246206</td>\n",
       "      <td>-2.925656</td>\n",
       "      <td>0.212761</td>\n",
       "      <td>-7.314521</td>\n",
       "    </tr>\n",
       "    <tr>\n",
       "      <th>1</th>\n",
       "      <td>20190623</td>\n",
       "      <td>3 Things Under the Radar This Week</td>\n",
       "      <td>© Reuters.\\n\\nInvesting.com - Here’s a look at...</td>\n",
       "      <td>([investing.com, -, u.s., stocks, traded, larg...</td>\n",
       "      <td>[©, ., -, ’, look, three, things, radar, past,...</td>\n",
       "      <td>0.003017</td>\n",
       "      <td>-0.002310</td>\n",
       "      <td>0.002924</td>\n",
       "      <td>0.004959</td>\n",
       "      <td>-0.002456</td>\n",
       "      <td>...</td>\n",
       "      <td>0.000270</td>\n",
       "      <td>0.004150</td>\n",
       "      <td>-0.002946</td>\n",
       "      <td>-0.001289</td>\n",
       "      <td>0.000254</td>\n",
       "      <td>0.002503</td>\n",
       "      <td>-0.003372</td>\n",
       "      <td>0.004024</td>\n",
       "      <td>0.001015</td>\n",
       "      <td>0.004009</td>\n",
       "    </tr>\n",
       "    <tr>\n",
       "      <th>2</th>\n",
       "      <td>20190623</td>\n",
       "      <td>Economic Calendar - Top 5 Things to Watch This...</td>\n",
       "      <td>© Reuters.\\n\\nInvesting.com - Market watchers ...</td>\n",
       "      <td>([investing.com, -, u.s., stocks, traded, larg...</td>\n",
       "      <td>[©, ., -, market, watchers, looking, ahead, me...</td>\n",
       "      <td>-0.004053</td>\n",
       "      <td>0.003615</td>\n",
       "      <td>-0.003987</td>\n",
       "      <td>0.000428</td>\n",
       "      <td>-0.002788</td>\n",
       "      <td>...</td>\n",
       "      <td>0.000225</td>\n",
       "      <td>-0.004779</td>\n",
       "      <td>-0.001789</td>\n",
       "      <td>0.003122</td>\n",
       "      <td>-0.000413</td>\n",
       "      <td>0.001716</td>\n",
       "      <td>0.004466</td>\n",
       "      <td>0.001656</td>\n",
       "      <td>-0.004091</td>\n",
       "      <td>0.001994</td>\n",
       "    </tr>\n",
       "    <tr>\n",
       "      <th>3</th>\n",
       "      <td>20190623</td>\n",
       "      <td>U.S. stocks lower at close of trade; Dow Jones...</td>\n",
       "      <td>© Reuters. U.S. stocks lower at close of trade...</td>\n",
       "      <td>([investing.com, -, u.s., stocks, traded, larg...</td>\n",
       "      <td>[©, ., u.s., stocks, lower, close, trade, ;, d...</td>\n",
       "      <td>0.004065</td>\n",
       "      <td>-0.058798</td>\n",
       "      <td>0.017575</td>\n",
       "      <td>-0.056746</td>\n",
       "      <td>-0.028863</td>\n",
       "      <td>...</td>\n",
       "      <td>0.023865</td>\n",
       "      <td>0.044793</td>\n",
       "      <td>-0.076246</td>\n",
       "      <td>0.063003</td>\n",
       "      <td>-0.007543</td>\n",
       "      <td>0.019365</td>\n",
       "      <td>-0.012899</td>\n",
       "      <td>0.028552</td>\n",
       "      <td>-0.044660</td>\n",
       "      <td>0.076078</td>\n",
       "    </tr>\n",
       "    <tr>\n",
       "      <th>4</th>\n",
       "      <td>20190621</td>\n",
       "      <td>Boeing Company (The) (NYSE:BA), Caterpillar, I...</td>\n",
       "      <td>It’s been a quick comeback for the S&amp;P 500 Ind...</td>\n",
       "      <td>([investing.com, -, u.s., stocks, traded, larg...</td>\n",
       "      <td>[’, quick, comeback, &amp;, p, 500, index, (, spx,...</td>\n",
       "      <td>-0.003270</td>\n",
       "      <td>0.001146</td>\n",
       "      <td>-0.003354</td>\n",
       "      <td>-0.004367</td>\n",
       "      <td>0.003661</td>\n",
       "      <td>...</td>\n",
       "      <td>-0.004649</td>\n",
       "      <td>-0.001999</td>\n",
       "      <td>-0.003349</td>\n",
       "      <td>-0.004594</td>\n",
       "      <td>0.004348</td>\n",
       "      <td>-0.001614</td>\n",
       "      <td>-0.003387</td>\n",
       "      <td>-0.000753</td>\n",
       "      <td>-0.002382</td>\n",
       "      <td>0.003448</td>\n",
       "    </tr>\n",
       "  </tbody>\n",
       "</table>\n",
       "<p>5 rows × 105 columns</p>\n",
       "</div>"
      ],
      "text/plain": [
       "        ymd                                              title  \\\n",
       "0  20190623  Energy & Precious Metals - Weekly Review and C...   \n",
       "1  20190623                 3 Things Under the Radar This Week   \n",
       "2  20190623  Economic Calendar - Top 5 Things to Watch This...   \n",
       "3  20190623  U.S. stocks lower at close of trade; Dow Jones...   \n",
       "4  20190621  Boeing Company (The) (NYSE:BA), Caterpillar, I...   \n",
       "\n",
       "                                                news  \\\n",
       "0  © Reuters.\\n\\nBy Barani Krishnan\\n\\nInvesting....   \n",
       "1  © Reuters.\\n\\nInvesting.com - Here’s a look at...   \n",
       "2  © Reuters.\\n\\nInvesting.com - Market watchers ...   \n",
       "3  © Reuters. U.S. stocks lower at close of trade...   \n",
       "4  It’s been a quick comeback for the S&P 500 Ind...   \n",
       "\n",
       "                                         tagged_news  \\\n",
       "0  ([investing.com, -, u.s., stocks, traded, larg...   \n",
       "1  ([investing.com, -, u.s., stocks, traded, larg...   \n",
       "2  ([investing.com, -, u.s., stocks, traded, larg...   \n",
       "3  ([investing.com, -, u.s., stocks, traded, larg...   \n",
       "4  ([investing.com, -, u.s., stocks, traded, larg...   \n",
       "\n",
       "                                          token_news       dv0       dv1  \\\n",
       "0  [©, ., barani, krishnan, -, one, week, ago, ,,...  3.681059 -5.299938   \n",
       "1  [©, ., -, ’, look, three, things, radar, past,...  0.003017 -0.002310   \n",
       "2  [©, ., -, market, watchers, looking, ahead, me... -0.004053  0.003615   \n",
       "3  [©, ., u.s., stocks, lower, close, trade, ;, d...  0.004065 -0.058798   \n",
       "4  [’, quick, comeback, &, p, 500, index, (, spx,... -0.003270  0.001146   \n",
       "\n",
       "         dv2       dv3       dv4  ...      dv90      dv91      dv92      dv93  \\\n",
       "0 -14.765718 -3.964301 -4.605420  ...  3.318588  9.164207 -9.478999 -1.168177   \n",
       "1   0.002924  0.004959 -0.002456  ...  0.000270  0.004150 -0.002946 -0.001289   \n",
       "2  -0.003987  0.000428 -0.002788  ...  0.000225 -0.004779 -0.001789  0.003122   \n",
       "3   0.017575 -0.056746 -0.028863  ...  0.023865  0.044793 -0.076246  0.063003   \n",
       "4  -0.003354 -0.004367  0.003661  ... -0.004649 -0.001999 -0.003349 -0.004594   \n",
       "\n",
       "       dv94      dv95      dv96      dv97      dv98      dv99  \n",
       "0  0.837244 -2.437616 -7.246206 -2.925656  0.212761 -7.314521  \n",
       "1  0.000254  0.002503 -0.003372  0.004024  0.001015  0.004009  \n",
       "2 -0.000413  0.001716  0.004466  0.001656 -0.004091  0.001994  \n",
       "3 -0.007543  0.019365 -0.012899  0.028552 -0.044660  0.076078  \n",
       "4  0.004348 -0.001614 -0.003387 -0.000753 -0.002382  0.003448  \n",
       "\n",
       "[5 rows x 105 columns]"
      ]
     },
     "execution_count": 106,
     "metadata": {},
     "output_type": "execute_result"
    }
   ],
   "source": [
    "df2.head()"
   ]
  },
  {
   "cell_type": "code",
   "execution_count": 84,
   "metadata": {},
   "outputs": [
    {
     "name": "stdout",
     "output_type": "stream",
     "text": [
      "V1_infer [-1.78228260e-03 -3.45725333e-03 -3.76688666e-04  5.96411119e-04\n",
      "  2.83469446e-03 -3.83976474e-03  1.49447843e-03 -1.87169004e-03\n",
      "  4.96226409e-03  1.11447810e-03 -4.46231943e-03 -1.24006602e-03\n",
      "  1.71593647e-03  4.98096133e-03  4.56714397e-03 -4.16751439e-03\n",
      "  3.52493883e-03 -2.56393128e-03 -1.97161012e-03 -4.11430327e-03\n",
      "  1.98350335e-03  4.68551088e-03  3.30670690e-03 -2.18727742e-03\n",
      " -2.70389416e-03 -2.91808555e-03  2.54630053e-04 -1.10330584e-04\n",
      " -1.77926151e-03 -3.74003430e-03  4.41862177e-03 -2.37182854e-03\n",
      " -1.31218252e-03  4.43235226e-03  4.43795789e-03  1.32272742e-03\n",
      " -1.75345095e-03  9.85375489e-04 -1.33362133e-03 -2.83664383e-04\n",
      "  1.15636957e-03  1.38969335e-03  9.68040258e-04 -2.29854006e-04\n",
      " -3.85182025e-03  1.79697608e-03  1.27739005e-03 -1.89364527e-03\n",
      " -3.51843541e-03 -1.60779187e-03 -1.79216370e-03 -1.81992154e-03\n",
      " -1.70126616e-04  3.59108672e-03  3.62395006e-03 -3.96952173e-03\n",
      "  4.86313691e-03  2.27208482e-03  3.55108059e-03 -3.95667925e-03\n",
      " -1.80476950e-03  1.19629758e-03 -2.16316548e-03 -3.82134807e-03\n",
      " -3.49281565e-03 -1.31008972e-03 -2.60042585e-03 -3.38822952e-03\n",
      " -1.99866388e-03 -2.07966907e-04  1.54273422e-03 -1.50646060e-03\n",
      " -3.24644032e-03 -1.35040182e-05  3.36552085e-03  2.00609816e-03\n",
      "  1.59258361e-03  2.16898439e-03 -3.37757310e-03 -2.67908187e-03\n",
      "  4.80807619e-03  1.33457861e-03 -2.24238937e-03 -1.43122138e-03\n",
      "  1.40931876e-03  2.69830180e-03  1.42669305e-03 -4.96856496e-03\n",
      "  5.97676844e-04  2.23209313e-03 -1.37761305e-03 -4.01247293e-03\n",
      " -3.14103602e-03  1.67043344e-03 -1.15367665e-03 -1.41279097e-03\n",
      "  1.16305670e-03  2.45034485e-03 -2.35619675e-03 -1.38165313e-03]\n"
     ]
    }
   ],
   "source": [
    "# 모델을 이용할 차례 \n",
    "model = Doc2Vec.load('data/d2v.model')\n",
    "test_data = word_tokenize('I love chatbots'.lower())\n",
    "v1 = model.infer_vector(test_data)\n",
    "print('V1_infer',v1)"
   ]
  },
  {
   "cell_type": "code",
   "execution_count": null,
   "metadata": {},
   "outputs": [],
   "source": []
  }
 ],
 "metadata": {
  "kernelspec": {
   "display_name": "Python 3",
   "language": "python",
   "name": "python3"
  },
  "language_info": {
   "codemirror_mode": {
    "name": "ipython",
    "version": 3
   },
   "file_extension": ".py",
   "mimetype": "text/x-python",
   "name": "python",
   "nbconvert_exporter": "python",
   "pygments_lexer": "ipython3",
   "version": "3.7.3"
  }
 },
 "nbformat": 4,
 "nbformat_minor": 2
}
