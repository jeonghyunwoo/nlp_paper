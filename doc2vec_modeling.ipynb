{
 "cells": [
  {
   "cell_type": "code",
   "execution_count": 1,
   "metadata": {},
   "outputs": [],
   "source": [
    "import pandas as pd\n",
    "import numpy as np\n",
    "from gensim.models.doc2vec import Doc2Vec, TaggedDocument\n",
    "from nltk.tokenize import word_tokenize"
   ]
  },
  {
   "cell_type": "code",
   "execution_count": 2,
   "metadata": {},
   "outputs": [
    {
     "data": {
      "text/plain": [
       "'C:\\\\Users\\\\jeong\\\\proj\\\\nlp_paper'"
      ]
     },
     "execution_count": 2,
     "metadata": {},
     "output_type": "execute_result"
    }
   ],
   "source": [
    "pwd"
   ]
  },
  {
   "cell_type": "code",
   "execution_count": 3,
   "metadata": {},
   "outputs": [],
   "source": [
    "import glob"
   ]
  },
  {
   "cell_type": "code",
   "execution_count": 4,
   "metadata": {},
   "outputs": [
    {
     "data": {
      "text/plain": [
       "['data\\\\CBOE Volatility Index Historical Data.csv',\n",
       " 'data\\\\href.csv',\n",
       " 'data\\\\lkdf.csv',\n",
       " 'data\\\\newslink.csv',\n",
       " 'data\\\\news_vix.csv',\n",
       " 'data\\\\news_vix1.csv',\n",
       " 'data\\\\news_vix2.csv']"
      ]
     },
     "execution_count": 4,
     "metadata": {},
     "output_type": "execute_result"
    }
   ],
   "source": [
    "glob.glob('data/*.csv')"
   ]
  },
  {
   "cell_type": "code",
   "execution_count": 5,
   "metadata": {},
   "outputs": [],
   "source": [
    "df = pd.read_csv('data/news_vix2.csv')"
   ]
  },
  {
   "cell_type": "code",
   "execution_count": 6,
   "metadata": {},
   "outputs": [
    {
     "data": {
      "text/plain": [
       "(241, 3)"
      ]
     },
     "execution_count": 6,
     "metadata": {},
     "output_type": "execute_result"
    }
   ],
   "source": [
    "df.shape"
   ]
  },
  {
   "cell_type": "code",
   "execution_count": 7,
   "metadata": {},
   "outputs": [
    {
     "data": {
      "text/html": [
       "<div>\n",
       "<style scoped>\n",
       "    .dataframe tbody tr th:only-of-type {\n",
       "        vertical-align: middle;\n",
       "    }\n",
       "\n",
       "    .dataframe tbody tr th {\n",
       "        vertical-align: top;\n",
       "    }\n",
       "\n",
       "    .dataframe thead th {\n",
       "        text-align: right;\n",
       "    }\n",
       "</style>\n",
       "<table border=\"1\" class=\"dataframe\">\n",
       "  <thead>\n",
       "    <tr style=\"text-align: right;\">\n",
       "      <th></th>\n",
       "      <th>date</th>\n",
       "      <th>title</th>\n",
       "      <th>news</th>\n",
       "    </tr>\n",
       "  </thead>\n",
       "  <tbody>\n",
       "    <tr>\n",
       "      <th>0</th>\n",
       "      <td>Jun 23, 2019</td>\n",
       "      <td>Energy &amp; Precious Metals - Weekly Review and C...</td>\n",
       "      <td>© Reuters.\\n\\nBy Barani Krishnan\\n\\nInvesting....</td>\n",
       "    </tr>\n",
       "    <tr>\n",
       "      <th>1</th>\n",
       "      <td>Jun 23, 2019</td>\n",
       "      <td>3 Things Under the Radar This Week</td>\n",
       "      <td>© Reuters.\\n\\nInvesting.com - Here’s a look at...</td>\n",
       "    </tr>\n",
       "    <tr>\n",
       "      <th>2</th>\n",
       "      <td>Jun 23, 2019</td>\n",
       "      <td>Economic Calendar - Top 5 Things to Watch This...</td>\n",
       "      <td>© Reuters.\\n\\nInvesting.com - Market watchers ...</td>\n",
       "    </tr>\n",
       "    <tr>\n",
       "      <th>3</th>\n",
       "      <td>Jun 23, 2019</td>\n",
       "      <td>U.S. stocks lower at close of trade; Dow Jones...</td>\n",
       "      <td>© Reuters. U.S. stocks lower at close of trade...</td>\n",
       "    </tr>\n",
       "    <tr>\n",
       "      <th>4</th>\n",
       "      <td>June 21, 2019 10:00am</td>\n",
       "      <td>Boeing Company (The) (NYSE:BA), Caterpillar, I...</td>\n",
       "      <td>It’s been a quick comeback for the S&amp;P 500 Ind...</td>\n",
       "    </tr>\n",
       "  </tbody>\n",
       "</table>\n",
       "</div>"
      ],
      "text/plain": [
       "                    date                                              title  \\\n",
       "0           Jun 23, 2019  Energy & Precious Metals - Weekly Review and C...   \n",
       "1           Jun 23, 2019                 3 Things Under the Radar This Week   \n",
       "2           Jun 23, 2019  Economic Calendar - Top 5 Things to Watch This...   \n",
       "3           Jun 23, 2019  U.S. stocks lower at close of trade; Dow Jones...   \n",
       "4  June 21, 2019 10:00am  Boeing Company (The) (NYSE:BA), Caterpillar, I...   \n",
       "\n",
       "                                                news  \n",
       "0  © Reuters.\\n\\nBy Barani Krishnan\\n\\nInvesting....  \n",
       "1  © Reuters.\\n\\nInvesting.com - Here’s a look at...  \n",
       "2  © Reuters.\\n\\nInvesting.com - Market watchers ...  \n",
       "3  © Reuters. U.S. stocks lower at close of trade...  \n",
       "4  It’s been a quick comeback for the S&P 500 Ind...  "
      ]
     },
     "execution_count": 7,
     "metadata": {},
     "output_type": "execute_result"
    }
   ],
   "source": [
    "df.head()"
   ]
  },
  {
   "cell_type": "code",
   "execution_count": 12,
   "metadata": {},
   "outputs": [],
   "source": [
    "df['dat'] = pd.to_datetime(df.date)"
   ]
  },
  {
   "cell_type": "code",
   "execution_count": 13,
   "metadata": {},
   "outputs": [],
   "source": [
    "df['ymd'] = df.dat.dt.strftime('%Y%m%d')"
   ]
  },
  {
   "cell_type": "code",
   "execution_count": 14,
   "metadata": {},
   "outputs": [
    {
     "data": {
      "text/html": [
       "<div>\n",
       "<style scoped>\n",
       "    .dataframe tbody tr th:only-of-type {\n",
       "        vertical-align: middle;\n",
       "    }\n",
       "\n",
       "    .dataframe tbody tr th {\n",
       "        vertical-align: top;\n",
       "    }\n",
       "\n",
       "    .dataframe thead th {\n",
       "        text-align: right;\n",
       "    }\n",
       "</style>\n",
       "<table border=\"1\" class=\"dataframe\">\n",
       "  <thead>\n",
       "    <tr style=\"text-align: right;\">\n",
       "      <th></th>\n",
       "      <th>date</th>\n",
       "      <th>title</th>\n",
       "      <th>news</th>\n",
       "      <th>dat</th>\n",
       "      <th>ymd</th>\n",
       "    </tr>\n",
       "  </thead>\n",
       "  <tbody>\n",
       "    <tr>\n",
       "      <th>0</th>\n",
       "      <td>Jun 23, 2019</td>\n",
       "      <td>Energy &amp; Precious Metals - Weekly Review and C...</td>\n",
       "      <td>© Reuters.\\n\\nBy Barani Krishnan\\n\\nInvesting....</td>\n",
       "      <td>2019-06-23 00:00:00</td>\n",
       "      <td>20190623</td>\n",
       "    </tr>\n",
       "    <tr>\n",
       "      <th>1</th>\n",
       "      <td>Jun 23, 2019</td>\n",
       "      <td>3 Things Under the Radar This Week</td>\n",
       "      <td>© Reuters.\\n\\nInvesting.com - Here’s a look at...</td>\n",
       "      <td>2019-06-23 00:00:00</td>\n",
       "      <td>20190623</td>\n",
       "    </tr>\n",
       "    <tr>\n",
       "      <th>2</th>\n",
       "      <td>Jun 23, 2019</td>\n",
       "      <td>Economic Calendar - Top 5 Things to Watch This...</td>\n",
       "      <td>© Reuters.\\n\\nInvesting.com - Market watchers ...</td>\n",
       "      <td>2019-06-23 00:00:00</td>\n",
       "      <td>20190623</td>\n",
       "    </tr>\n",
       "    <tr>\n",
       "      <th>3</th>\n",
       "      <td>Jun 23, 2019</td>\n",
       "      <td>U.S. stocks lower at close of trade; Dow Jones...</td>\n",
       "      <td>© Reuters. U.S. stocks lower at close of trade...</td>\n",
       "      <td>2019-06-23 00:00:00</td>\n",
       "      <td>20190623</td>\n",
       "    </tr>\n",
       "    <tr>\n",
       "      <th>4</th>\n",
       "      <td>June 21, 2019 10:00am</td>\n",
       "      <td>Boeing Company (The) (NYSE:BA), Caterpillar, I...</td>\n",
       "      <td>It’s been a quick comeback for the S&amp;P 500 Ind...</td>\n",
       "      <td>2019-06-21 10:00:00</td>\n",
       "      <td>20190621</td>\n",
       "    </tr>\n",
       "  </tbody>\n",
       "</table>\n",
       "</div>"
      ],
      "text/plain": [
       "                    date                                              title  \\\n",
       "0           Jun 23, 2019  Energy & Precious Metals - Weekly Review and C...   \n",
       "1           Jun 23, 2019                 3 Things Under the Radar This Week   \n",
       "2           Jun 23, 2019  Economic Calendar - Top 5 Things to Watch This...   \n",
       "3           Jun 23, 2019  U.S. stocks lower at close of trade; Dow Jones...   \n",
       "4  June 21, 2019 10:00am  Boeing Company (The) (NYSE:BA), Caterpillar, I...   \n",
       "\n",
       "                                                news                 dat  \\\n",
       "0  © Reuters.\\n\\nBy Barani Krishnan\\n\\nInvesting.... 2019-06-23 00:00:00   \n",
       "1  © Reuters.\\n\\nInvesting.com - Here’s a look at... 2019-06-23 00:00:00   \n",
       "2  © Reuters.\\n\\nInvesting.com - Market watchers ... 2019-06-23 00:00:00   \n",
       "3  © Reuters. U.S. stocks lower at close of trade... 2019-06-23 00:00:00   \n",
       "4  It’s been a quick comeback for the S&P 500 Ind... 2019-06-21 10:00:00   \n",
       "\n",
       "        ymd  \n",
       "0  20190623  \n",
       "1  20190623  \n",
       "2  20190623  \n",
       "3  20190623  \n",
       "4  20190621  "
      ]
     },
     "execution_count": 14,
     "metadata": {},
     "output_type": "execute_result"
    }
   ],
   "source": [
    "df.head()"
   ]
  },
  {
   "cell_type": "code",
   "execution_count": 15,
   "metadata": {},
   "outputs": [
    {
     "data": {
      "text/plain": [
       "20190623    240\n",
       "20190621      1\n",
       "Name: ymd, dtype: int64"
      ]
     },
     "execution_count": 15,
     "metadata": {},
     "output_type": "execute_result"
    }
   ],
   "source": [
    "df.ymd.value_counts(dropna=False)"
   ]
  },
  {
   "cell_type": "markdown",
   "metadata": {},
   "source": [
    "각 기사별로 doc2vec을 해보자 "
   ]
  },
  {
   "cell_type": "code",
   "execution_count": 16,
   "metadata": {},
   "outputs": [],
   "source": [
    "df1 = df.loc[:,['ymd','title','news']]"
   ]
  },
  {
   "cell_type": "code",
   "execution_count": 17,
   "metadata": {},
   "outputs": [
    {
     "data": {
      "text/html": [
       "<div>\n",
       "<style scoped>\n",
       "    .dataframe tbody tr th:only-of-type {\n",
       "        vertical-align: middle;\n",
       "    }\n",
       "\n",
       "    .dataframe tbody tr th {\n",
       "        vertical-align: top;\n",
       "    }\n",
       "\n",
       "    .dataframe thead th {\n",
       "        text-align: right;\n",
       "    }\n",
       "</style>\n",
       "<table border=\"1\" class=\"dataframe\">\n",
       "  <thead>\n",
       "    <tr style=\"text-align: right;\">\n",
       "      <th></th>\n",
       "      <th>ymd</th>\n",
       "      <th>title</th>\n",
       "      <th>news</th>\n",
       "    </tr>\n",
       "  </thead>\n",
       "  <tbody>\n",
       "    <tr>\n",
       "      <th>0</th>\n",
       "      <td>20190623</td>\n",
       "      <td>Energy &amp; Precious Metals - Weekly Review and C...</td>\n",
       "      <td>© Reuters.\\n\\nBy Barani Krishnan\\n\\nInvesting....</td>\n",
       "    </tr>\n",
       "    <tr>\n",
       "      <th>1</th>\n",
       "      <td>20190623</td>\n",
       "      <td>3 Things Under the Radar This Week</td>\n",
       "      <td>© Reuters.\\n\\nInvesting.com - Here’s a look at...</td>\n",
       "    </tr>\n",
       "    <tr>\n",
       "      <th>2</th>\n",
       "      <td>20190623</td>\n",
       "      <td>Economic Calendar - Top 5 Things to Watch This...</td>\n",
       "      <td>© Reuters.\\n\\nInvesting.com - Market watchers ...</td>\n",
       "    </tr>\n",
       "    <tr>\n",
       "      <th>3</th>\n",
       "      <td>20190623</td>\n",
       "      <td>U.S. stocks lower at close of trade; Dow Jones...</td>\n",
       "      <td>© Reuters. U.S. stocks lower at close of trade...</td>\n",
       "    </tr>\n",
       "    <tr>\n",
       "      <th>4</th>\n",
       "      <td>20190621</td>\n",
       "      <td>Boeing Company (The) (NYSE:BA), Caterpillar, I...</td>\n",
       "      <td>It’s been a quick comeback for the S&amp;P 500 Ind...</td>\n",
       "    </tr>\n",
       "  </tbody>\n",
       "</table>\n",
       "</div>"
      ],
      "text/plain": [
       "        ymd                                              title  \\\n",
       "0  20190623  Energy & Precious Metals - Weekly Review and C...   \n",
       "1  20190623                 3 Things Under the Radar This Week   \n",
       "2  20190623  Economic Calendar - Top 5 Things to Watch This...   \n",
       "3  20190623  U.S. stocks lower at close of trade; Dow Jones...   \n",
       "4  20190621  Boeing Company (The) (NYSE:BA), Caterpillar, I...   \n",
       "\n",
       "                                                news  \n",
       "0  © Reuters.\\n\\nBy Barani Krishnan\\n\\nInvesting....  \n",
       "1  © Reuters.\\n\\nInvesting.com - Here’s a look at...  \n",
       "2  © Reuters.\\n\\nInvesting.com - Market watchers ...  \n",
       "3  © Reuters. U.S. stocks lower at close of trade...  \n",
       "4  It’s been a quick comeback for the S&P 500 Ind...  "
      ]
     },
     "execution_count": 17,
     "metadata": {},
     "output_type": "execute_result"
    }
   ],
   "source": [
    "df1.head()"
   ]
  },
  {
   "cell_type": "code",
   "execution_count": 38,
   "metadata": {},
   "outputs": [],
   "source": [
    "# tokenize 및 stopwords 제거 \n",
    "from nltk.corpus import stopwords\n",
    "import nltk\n",
    "nltk.download('stopwords')"
   ]
  },
  {
   "cell_type": "code",
   "execution_count": 55,
   "metadata": {},
   "outputs": [],
   "source": [
    "stopwz = set(stopwords.words('english')+['reuters','investing.com']) # reuters,investing.com 추가 "
   ]
  },
  {
   "cell_type": "code",
   "execution_count": 56,
   "metadata": {},
   "outputs": [],
   "source": [
    "from nltk.tokenize import RegexpTokenizer\n",
    "tokenizer = RegexpTokenizer(r'\\w+')  # alphanumeric characters (영문자와 숫자만 가져옴)\n",
    "# word_tokenize 대신 쓸 수 있음 "
   ]
  },
  {
   "cell_type": "code",
   "execution_count": 72,
   "metadata": {},
   "outputs": [],
   "source": [
    "data = df1.news.tolist()\n",
    "token_news = [word_tokenize(d.lower()) for d in data]\n",
    "#token_news = [tokenizer.tokenize(d.lower()) for d in data]"
   ]
  },
  {
   "cell_type": "code",
   "execution_count": 73,
   "metadata": {},
   "outputs": [],
   "source": [
    "token_news_filtered = []\n",
    "for d in token_news:\n",
    "    _d = [w for w in d if w not in stopwz]\n",
    "    token_news_filtered.append(_d)"
   ]
  },
  {
   "cell_type": "code",
   "execution_count": 79,
   "metadata": {},
   "outputs": [],
   "source": [
    "# tagged data 만들기 \n",
    "tagged_news = [TaggedDocument(words = d, tags = [str(i)]) for i, _d in enumerate(token_news_filtered)]"
   ]
  },
  {
   "cell_type": "code",
   "execution_count": 80,
   "metadata": {},
   "outputs": [],
   "source": [
    "# modeling\n",
    "max_epochs = 100\n",
    "vec_size = 100\n",
    "alpha = 0.25\n",
    "\n",
    "model = Doc2Vec(vector_size = vec_size,\n",
    "               alpha = alpha,\n",
    "               min_alpha = 0.00025,\n",
    "               min_count = 1,\n",
    "               dm = 1) "
   ]
  },
  {
   "cell_type": "code",
   "execution_count": 81,
   "metadata": {},
   "outputs": [],
   "source": [
    "model.build_vocab(tagged_news)"
   ]
  },
  {
   "cell_type": "code",
   "execution_count": 82,
   "metadata": {},
   "outputs": [
    {
     "name": "stdout",
     "output_type": "stream",
     "text": [
      "iteration 0\n",
      "iteration 10\n",
      "iteration 20\n",
      "iteration 30\n",
      "iteration 40\n",
      "iteration 50\n",
      "iteration 60\n",
      "iteration 70\n",
      "iteration 80\n",
      "iteration 90\n",
      "Wall time: 37.2 s\n"
     ]
    }
   ],
   "source": [
    "%%time\n",
    "for epoch in range(max_epochs):\n",
    "    if epoch % 10 ==0:\n",
    "        print('iteration {0}'.format(epoch))\n",
    "    model.train(tagged_news,\n",
    "               total_examples = model.corpus_count,\n",
    "               epochs = model.epochs)\n",
    "    # decrease the learning rate\n",
    "    model.alpha -= 0.0002\n",
    "    # fix the learning rate, no decay\n",
    "    model.min_alpha = model.alpha"
   ]
  },
  {
   "cell_type": "code",
   "execution_count": null,
   "metadata": {},
   "outputs": [],
   "source": []
  }
 ],
 "metadata": {
  "kernelspec": {
   "display_name": "Python 3",
   "language": "python",
   "name": "python3"
  },
  "language_info": {
   "codemirror_mode": {
    "name": "ipython",
    "version": 3
   },
   "file_extension": ".py",
   "mimetype": "text/x-python",
   "name": "python",
   "nbconvert_exporter": "python",
   "pygments_lexer": "ipython3",
   "version": "3.7.0"
  }
 },
 "nbformat": 4,
 "nbformat_minor": 2
}
