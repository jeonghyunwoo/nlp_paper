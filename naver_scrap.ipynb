{
  "nbformat": 4,
  "nbformat_minor": 0,
  "metadata": {
    "colab": {
      "name": "naver_scrap.ipynb",
      "version": "0.3.2",
      "provenance": [],
      "collapsed_sections": [],
      "include_colab_link": true
    },
    "language_info": {
      "codemirror_mode": {
        "name": "ipython",
        "version": 3
      },
      "file_extension": ".py",
      "mimetype": "text/x-python",
      "name": "python",
      "nbconvert_exporter": "python",
      "pygments_lexer": "ipython3",
      "version": "3.7.3"
    },
    "kernelspec": {
      "display_name": "Python 3",
      "language": "python",
      "name": "python3"
    }
  },
  "cells": [
    {
      "cell_type": "markdown",
      "metadata": {
        "id": "view-in-github",
        "colab_type": "text"
      },
      "source": [
        "<a href=\"https://colab.research.google.com/github/jeonghyunwoo/nlp_paper/blob/master/naver_scrap.ipynb\" target=\"_parent\"><img src=\"https://colab.research.google.com/assets/colab-badge.svg\" alt=\"Open In Colab\"/></a>"
      ]
    },
    {
      "cell_type": "code",
      "metadata": {
        "id": "fsS2L4IZnfhe",
        "colab_type": "code",
        "colab": {}
      },
      "source": [
        "!pip install konlpy"
      ],
      "execution_count": 0,
      "outputs": []
    },
    {
      "cell_type": "code",
      "metadata": {
        "id": "OPrynq-vnu_N",
        "colab_type": "code",
        "colab": {}
      },
      "source": [
        "!pip install newspaper3k"
      ],
      "execution_count": 0,
      "outputs": []
    },
    {
      "cell_type": "code",
      "metadata": {
        "id": "iWhRwh6e41qF",
        "colab_type": "code",
        "colab": {}
      },
      "source": [
        "from konlpy.tag import Okt\n",
        "import pandas as pd\n",
        "import numpy as np\n",
        "import newspaper\n",
        "from newspaper import Article\n",
        "from bs4 import BeautifulSoup as soup\n",
        "from urllib.request import urlopen\n",
        "from urllib.parse import quote_plus"
      ],
      "execution_count": 0,
      "outputs": []
    },
    {
      "cell_type": "code",
      "metadata": {
        "id": "qms7YzJg41qJ",
        "colab_type": "code",
        "colab": {}
      },
      "source": [
        "def mkurl(검색어,시작기사번호,begdate=20190601,enddate=20190709):\n",
        "    qrytxt = quote_plus(검색어)\n",
        "    begdate, enddate = str(begdate), str(enddate)\n",
        "    begd = begdate[:4]+\".\"+begdate[4:6]+\".\"+begdate[6:]\n",
        "    endd = enddate[:4]+\".\"+enddate[4:6]+\".\"+enddate[6:]\n",
        "    url0 = \"https://search.naver.com/search.naver?&where=news&query={qry}&sm=tab_pge&sort=0&photo=0&field=0&reporter_article=&pd=3&ds={ds}&de={de}&docid=&nso=so:r,p:from{begdate}to{enddate},a:all&mynews=0&cluster_rank=29&start={pg}&refresh_start=0\"\n",
        "    url = url0.format(qry = qrytxt, ds = begd, de = endd, begdate= begdate, enddate=enddate,pg = 시작기사번호)\n",
        "    return url\n",
        "\n",
        "def scrap(url):\n",
        "    obj = soup(urlopen(url),'lxml')\n",
        "    src = obj.select('._sp_each_title')\n",
        "    link = [tag['href'] for tag in src]\n",
        "    titles = [tag.text for tag in src]\n",
        "    txts = []\n",
        "    dats = []\n",
        "    for lk in link:\n",
        "        a = Article(lk)\n",
        "        try:\n",
        "          a.download();a.parse()\n",
        "          dats.append(a.publish_date)\n",
        "          txts.append(a.text)\n",
        "        except:\n",
        "          dats.append('')\n",
        "          txts.append('')\n",
        "    return pd.DataFrame({'title':titles,\n",
        "                        'date':dats,\n",
        "                        'news':txts})\n",
        "\n",
        "def newsrun(검색어,페이지수,시작날짜,끝날짜):\n",
        "    '''\n",
        "    ex) newsrun(검색어='가계부채',페이지수=10,시작날짜=20190601,끝날짜=20190709)\n",
        "    '''\n",
        "    newsdfs = []\n",
        "    for i in np.arange(1,페이지수*10,10):\n",
        "        url = mkurl(검색어,i,시작날짜,끝날짜)\n",
        "        newsdfs.append(scrap(url))\n",
        "        if i % 10 == 0:\n",
        "          print(f'{i} page done')\n",
        "    return pd.concat(newsdfs,axis=0)    "
      ],
      "execution_count": 0,
      "outputs": []
    },
    {
      "cell_type": "code",
      "metadata": {
        "id": "WhikXngk41qP",
        "colab_type": "code",
        "outputId": "208c0cd6-35a8-43b3-cf18-33ebac1c5492",
        "colab": {
          "base_uri": "https://localhost:8080/",
          "height": 71
        }
      },
      "source": [
        "%%time\n",
        "newses = list(map(lambda x: newsrun(x,5,20190601,20190709), ['가계부채','취약계층 채무']))\n",
        "newsdf = pd.concat(newses, axis=0)\n",
        "newsdf.to_pickle('newdf.pkl')"
      ],
      "execution_count": 0,
      "outputs": [
        {
          "output_type": "stream",
          "text": [
            "CPU times: user 17.6 s, sys: 291 ms, total: 17.9 s\n",
            "Wall time: 2min 52s\n"
          ],
          "name": "stdout"
        }
      ]
    },
    {
      "cell_type": "code",
      "metadata": {
        "id": "X4z1htlpvu4w",
        "colab_type": "code",
        "colab": {}
      },
      "source": [
        "\n",
        "newsdf = pd.read_pickle('newdf.pkl')"
      ],
      "execution_count": 0,
      "outputs": []
    },
    {
      "cell_type": "code",
      "metadata": {
        "id": "3fJxdTmEqyDJ",
        "colab_type": "code",
        "outputId": "18f94608-9c76-49e1-d162-d49a6cc1dc8e",
        "colab": {
          "base_uri": "https://localhost:8080/",
          "height": 272
        }
      },
      "source": [
        "newsdf.head()"
      ],
      "execution_count": 0,
      "outputs": [
        {
          "output_type": "execute_result",
          "data": {
            "text/html": [
              "<div>\n",
              "<style scoped>\n",
              "    .dataframe tbody tr th:only-of-type {\n",
              "        vertical-align: middle;\n",
              "    }\n",
              "\n",
              "    .dataframe tbody tr th {\n",
              "        vertical-align: top;\n",
              "    }\n",
              "\n",
              "    .dataframe thead th {\n",
              "        text-align: right;\n",
              "    }\n",
              "</style>\n",
              "<table border=\"1\" class=\"dataframe\">\n",
              "  <thead>\n",
              "    <tr style=\"text-align: right;\">\n",
              "      <th></th>\n",
              "      <th>title</th>\n",
              "      <th>date</th>\n",
              "      <th>news</th>\n",
              "    </tr>\n",
              "  </thead>\n",
              "  <tbody>\n",
              "    <tr>\n",
              "      <th>0</th>\n",
              "      <td>홍남기 이어 최종구도 금리인하 압박…\"가계부채·집값 걱정말라\"</td>\n",
              "      <td>2019-07-08 00:00:00+09:00</td>\n",
              "      <td>[이데일리 김정현 기자] 경제수장들이 잇따라 한국은행 기준금리 인하를 압박하고 나섰...</td>\n",
              "    </tr>\n",
              "    <tr>\n",
              "      <th>1</th>\n",
              "      <td>[인터뷰]박정만 \"가계부채 해결없이 文정부 소득주도성장 불가능\"</td>\n",
              "      <td>2019-07-08 10:29:47+09:00</td>\n",
              "      <td>박정만 서울금융복지상담센터장 인터뷰서 밝혀\\n\\n\"금융은 맑은 날 우산 빌려주고 비...</td>\n",
              "    </tr>\n",
              "    <tr>\n",
              "      <th>2</th>\n",
              "      <td>최종구 “가계부채 안정 가장 잘 했다”</td>\n",
              "      <td>None</td>\n",
              "      <td></td>\n",
              "    </tr>\n",
              "    <tr>\n",
              "      <th>3</th>\n",
              "      <td>한국, 가계부채에 이어 국가채무 논쟁…어떻게 봐야 하나 [국제경제읽기 한상...</td>\n",
              "      <td>None</td>\n",
              "      <td>\"돈의 향연이 끝나고 반란이 시작된다\". 5년 전 `머니 볼`의 저자인 마이클 루이...</td>\n",
              "    </tr>\n",
              "    <tr>\n",
              "      <th>4</th>\n",
              "      <td>취임 2년 최종구, “가계부채 안정 최고 성과..재정확대 정책 필요”</td>\n",
              "      <td>None</td>\n",
              "      <td>\\n\\n최종구 금융위원장이 지난 5일 서울 광화문에서 열린 취임 2주년 기자 간담회...</td>\n",
              "    </tr>\n",
              "  </tbody>\n",
              "</table>\n",
              "</div>"
            ],
            "text/plain": [
              "                                          title  ...                                               news\n",
              "0            홍남기 이어 최종구도 금리인하 압박…\"가계부채·집값 걱정말라\"  ...  [이데일리 김정현 기자] 경제수장들이 잇따라 한국은행 기준금리 인하를 압박하고 나섰...\n",
              "1           [인터뷰]박정만 \"가계부채 해결없이 文정부 소득주도성장 불가능\"  ...  박정만 서울금융복지상담센터장 인터뷰서 밝혀\\n\\n\"금융은 맑은 날 우산 빌려주고 비...\n",
              "2                         최종구 “가계부채 안정 가장 잘 했다”  ...                                                   \n",
              "3  한국, 가계부채에 이어 국가채무 논쟁…어떻게 봐야 하나 [국제경제읽기 한상...  ...  \"돈의 향연이 끝나고 반란이 시작된다\". 5년 전 `머니 볼`의 저자인 마이클 루이...\n",
              "4        취임 2년 최종구, “가계부채 안정 최고 성과..재정확대 정책 필요”  ...  \\n\\n최종구 금융위원장이 지난 5일 서울 광화문에서 열린 취임 2주년 기자 간담회...\n",
              "\n",
              "[5 rows x 3 columns]"
            ]
          },
          "metadata": {
            "tags": []
          },
          "execution_count": 8
        }
      ]
    },
    {
      "cell_type": "code",
      "metadata": {
        "id": "QPyLTF5avkm2",
        "colab_type": "code",
        "colab": {}
      },
      "source": [
        ""
      ],
      "execution_count": 0,
      "outputs": []
    }
  ]
}